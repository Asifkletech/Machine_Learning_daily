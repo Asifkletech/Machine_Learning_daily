{
 "cells": [
  {
   "cell_type": "markdown",
   "metadata": {},
   "source": [
    "### NUMPY ARRAYS"
   ]
  },
  {
   "cell_type": "markdown",
   "metadata": {},
   "source": [
    "ARRAYS VS LIST COMPARISON"
   ]
  },
  {
   "cell_type": "markdown",
   "metadata": {},
   "source": []
  },
  {
   "cell_type": "code",
   "execution_count": 1,
   "metadata": {},
   "outputs": [],
   "source": [
    "import numpy as np"
   ]
  },
  {
   "cell_type": "code",
   "execution_count": 2,
   "metadata": {},
   "outputs": [
    {
     "name": "stdout",
     "output_type": "stream",
     "text": [
      "[1, 2, 3, 4]\n",
      "<class 'list'>\n"
     ]
    }
   ],
   "source": [
    "#list\n",
    "lst=[1,2,3,4]\n",
    "print(lst)\n",
    "print(type(lst))"
   ]
  },
  {
   "cell_type": "code",
   "execution_count": 3,
   "metadata": {},
   "outputs": [
    {
     "name": "stdout",
     "output_type": "stream",
     "text": [
      "[1 2 3 4]\n",
      "<class 'numpy.ndarray'>\n"
     ]
    }
   ],
   "source": [
    "#numpy array\n",
    "arr=np.array([1,2,3,4])\n",
    "print(arr)\n",
    "print(type(arr))"
   ]
  },
  {
   "cell_type": "code",
   "execution_count": 4,
   "metadata": {},
   "outputs": [
    {
     "name": "stdout",
     "output_type": "stream",
     "text": [
      "[ True  True  True  True]\n",
      "True\n"
     ]
    }
   ],
   "source": [
    "print(arr==lst)\n",
    "print(arr.tolist()==lst)"
   ]
  },
  {
   "cell_type": "markdown",
   "metadata": {},
   "source": [
    "ADDING THE ELEMENTS TO THE LIST AND NUMPY ARRAY"
   ]
  },
  {
   "cell_type": "code",
   "execution_count": 5,
   "metadata": {},
   "outputs": [
    {
     "name": "stdout",
     "output_type": "stream",
     "text": [
      "[1, 2, 3]\n",
      "[1, 2, 3, 4]\n"
     ]
    }
   ],
   "source": [
    "#appending in the list\n",
    "lst=[1,2,3]\n",
    "print(lst)\n",
    "lst.append(4)\n",
    "print(lst)"
   ]
  },
  {
   "cell_type": "code",
   "execution_count": 6,
   "metadata": {},
   "outputs": [
    {
     "name": "stdout",
     "output_type": "stream",
     "text": [
      "[1 2 3]\n",
      "[1 2 3 4]\n"
     ]
    }
   ],
   "source": [
    "#appending in numpy\n",
    "arr2=np.array([1,2,3])\n",
    "print(arr2)\n",
    "arr2=np.append(arr2,4)\n",
    "print(arr2)"
   ]
  },
  {
   "cell_type": "markdown",
   "metadata": {},
   "source": [
    "DELETING IN NUMPY ARRAY VS LSITS"
   ]
  },
  {
   "cell_type": "code",
   "execution_count": 7,
   "metadata": {},
   "outputs": [
    {
     "name": "stdout",
     "output_type": "stream",
     "text": [
      "[1, 2, 3, 4]\n",
      "[1, 2, 3]\n"
     ]
    }
   ],
   "source": [
    "#deleting an element in a list\n",
    "lst=[1,2,3,4]\n",
    "print(lst)\n",
    "lst.pop(3)\n",
    "print(lst)"
   ]
  },
  {
   "cell_type": "code",
   "execution_count": 13,
   "metadata": {},
   "outputs": [
    {
     "name": "stdout",
     "output_type": "stream",
     "text": [
      "(1, 2, 3, 4)\n",
      "[1 2 3]\n"
     ]
    }
   ],
   "source": [
    "#Deleting an element in a numpy\n",
    "arr3=np.array=(1,2,3,4)\n",
    "print(arr3)\n",
    "arr3=np.delete(arr3,-1)\n",
    "print(arr3)"
   ]
  },
  {
   "cell_type": "markdown",
   "metadata": {},
   "source": [
    "UPDATING ELEMENTS IN AN ARRAY AND A LIST"
   ]
  },
  {
   "cell_type": "code",
   "execution_count": 9,
   "metadata": {},
   "outputs": [
    {
     "name": "stdout",
     "output_type": "stream",
     "text": [
      "[1, 2, 3, 4]\n",
      "[1, 2, 3, 5]\n"
     ]
    }
   ],
   "source": [
    "lst=[1,2,3,4]\n",
    "print(lst)\n",
    "lst[-1]=5\n",
    "print(lst)\n"
   ]
  },
  {
   "cell_type": "code",
   "execution_count": 18,
   "metadata": {},
   "outputs": [
    {
     "name": "stdout",
     "output_type": "stream",
     "text": [
      "[1, 2, 3, 4]\n",
      "[1, 2, 3, 5]\n"
     ]
    }
   ],
   "source": [
    "arr4=np.array=([1,2,3,4])\n",
    "print(arr4)\n",
    "arr4[-1]=5\n",
    "print(arr4)"
   ]
  },
  {
   "cell_type": "markdown",
   "metadata": {},
   "source": [
    "ARRAYS VS LIST COMPARISON(in terms of time)"
   ]
  },
  {
   "cell_type": "markdown",
   "metadata": {},
   "source": [
    "computing time taken by list"
   ]
  },
  {
   "cell_type": "code",
   "execution_count": 34,
   "metadata": {},
   "outputs": [
    {
     "name": "stdout",
     "output_type": "stream",
     "text": [
      "10000000\n",
      "10000000\n",
      "time taken by list to execute is : 5.532519817352295\n"
     ]
    }
   ],
   "source": [
    "import time\n",
    "my_list=list(range(10000000))\n",
    "my_arr=np.arange(10000000)\n",
    "\n",
    "print(len(my_list))\n",
    "print(len(my_arr))\n",
    "\n",
    "start_time=time.time()\n",
    "\n",
    "for i in range(100):\n",
    "    if 5000000 in my_list:\n",
    "        pass\n",
    "\n",
    "end_time=time.time()\n",
    "\n",
    "print(\"time taken by list to execute is :\",end_time-start_time)\n"
   ]
  },
  {
   "cell_type": "markdown",
   "metadata": {},
   "source": [
    "computing time taken by array"
   ]
  },
  {
   "cell_type": "code",
   "execution_count": 33,
   "metadata": {},
   "outputs": [
    {
     "name": "stdout",
     "output_type": "stream",
     "text": [
      "time taken by array to execute is : 0.8527474403381348\n"
     ]
    }
   ],
   "source": [
    "import time\n",
    "\n",
    "my_arr=np.arange(10000000)\n",
    "\n",
    "start_time=time.time()\n",
    "\n",
    "for i in range(100):\n",
    "    if 5000000 in my_arr:\n",
    "        pass\n",
    "\n",
    "end_time=time.time()\n",
    "\n",
    "print(\"time taken by array to execute is :\",end_time-start_time)\n",
    "\n"
   ]
  },
  {
   "cell_type": "markdown",
   "metadata": {},
   "source": [
    "NOTE:\n",
    "\n",
    "time taken by list to execute is : 5.532519817352295\n",
    "\n",
    "time taken by array to execute is : 0.8527474403381348\n",
    "\n",
    "ARRAY is five times faster than the list"
   ]
  }
 ],
 "metadata": {
  "kernelspec": {
   "display_name": ".conda",
   "language": "python",
   "name": "python3"
  },
  "language_info": {
   "codemirror_mode": {
    "name": "ipython",
    "version": 3
   },
   "file_extension": ".py",
   "mimetype": "text/x-python",
   "name": "python",
   "nbconvert_exporter": "python",
   "pygments_lexer": "ipython3",
   "version": "3.10.16"
  }
 },
 "nbformat": 4,
 "nbformat_minor": 2
}
