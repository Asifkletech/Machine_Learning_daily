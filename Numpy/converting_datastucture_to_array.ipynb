{
 "cells": [
  {
   "cell_type": "markdown",
   "metadata": {},
   "source": [
    "# CONVERTING DATA STRUCTURES TO ARRAY"
   ]
  },
  {
   "cell_type": "code",
   "execution_count": 1,
   "metadata": {},
   "outputs": [],
   "source": [
    "import numpy as np"
   ]
  },
  {
   "cell_type": "markdown",
   "metadata": {},
   "source": [
    "CONVERTING A TUPLE INTO AN ARRAY"
   ]
  },
  {
   "cell_type": "code",
   "execution_count": 14,
   "metadata": {},
   "outputs": [
    {
     "name": "stdout",
     "output_type": "stream",
     "text": [
      "(1, 2, 3, 4)\n",
      "<class 'tuple'>\n",
      "________________________________________\n",
      "[1 2 3 4]\n",
      "<class 'numpy.ndarray'>\n"
     ]
    }
   ],
   "source": [
    "tpl=(1,2,3,4)\n",
    "print(tpl)\n",
    "print(type(tpl))\n",
    "\n",
    "print(20*\"__\")\n",
    "\n",
    "arr=np.array(tpl)\n",
    "print(arr)\n",
    "print(type(arr))"
   ]
  },
  {
   "cell_type": "markdown",
   "metadata": {},
   "source": [
    "CONVERTING A LIST INTO AN ARRAY"
   ]
  },
  {
   "cell_type": "code",
   "execution_count": 15,
   "metadata": {},
   "outputs": [
    {
     "name": "stdout",
     "output_type": "stream",
     "text": [
      "[1, 2, 3, 4, 5]\n",
      "<class 'list'>\n",
      "________________________________________\n",
      "[1 2 3 4 5]\n",
      "<class 'numpy.ndarray'>\n"
     ]
    }
   ],
   "source": [
    "lst=[1,2,3,4,5]\n",
    "print(lst)\n",
    "print(type(lst))\n",
    "\n",
    "print(20*\"__\")\n",
    "arr=np.array(lst)\n",
    "print(arr)\n",
    "print(type(arr))"
   ]
  },
  {
   "cell_type": "markdown",
   "metadata": {},
   "source": [
    "CONVERTING A DICTIONARY TO AN ARRAY"
   ]
  },
  {
   "cell_type": "code",
   "execution_count": 28,
   "metadata": {},
   "outputs": [
    {
     "name": "stdout",
     "output_type": "stream",
     "text": [
      "{1: 'dog', 2: 'cat', 3: 'horse', 4: 'Tiger'}\n",
      "<class 'dict'>\n",
      "____________________________________________________________\n",
      "dict_keys([1, 2, 3, 4])\n",
      "dict_values(['dog', 'cat', 'horse', 'Tiger'])\n",
      "<class 'numpy.ndarray'>\n",
      "<class 'numpy.ndarray'>\n"
     ]
    }
   ],
   "source": [
    "dict={1:\"dog\",2:\"cat\",3:\"horse\",4:\"Tiger\"}\n",
    "print(dict)\n",
    "print(type(dict))\n",
    "\n",
    "print(30*\"__\")\n",
    "arr1=np.array(dict.keys())\n",
    "arr2=np.array(dict.values())\n",
    "\n",
    "print(arr1)\n",
    "print(arr2)\n",
    "print(type(arr1))\n",
    "print(type(arr2))"
   ]
  },
  {
   "cell_type": "markdown",
   "metadata": {},
   "source": [
    "CONVERTING SET TO A AN ARRAY"
   ]
  },
  {
   "cell_type": "code",
   "execution_count": 38,
   "metadata": {},
   "outputs": [
    {
     "name": "stdout",
     "output_type": "stream",
     "text": [
      "{1, 2, 3, 4}\n",
      "<class 'set'>\n",
      "____________________________________________________________\n",
      "{1, 2, 3, 4}\n",
      "<class 'numpy.ndarray'>\n"
     ]
    }
   ],
   "source": [
    "set_={1,2,3,4}\n",
    "print(set_)\n",
    "print(type(set_))\n",
    "\n",
    "print(30*\"__\")\n",
    "\n",
    "arr=np.array(set_)\n",
    "print(arr)\n",
    "print(type(arr))"
   ]
  },
  {
   "cell_type": "markdown",
   "metadata": {},
   "source": [
    "# CONVERTING DATATYPES OF NUMPY ARRAY"
   ]
  },
  {
   "cell_type": "markdown",
   "metadata": {},
   "source": [
    "CREATE ARRAY OF INTEGERS"
   ]
  },
  {
   "cell_type": "code",
   "execution_count": 53,
   "metadata": {},
   "outputs": [
    {
     "name": "stdout",
     "output_type": "stream",
     "text": [
      "[1 2 3 4 5]\n",
      "<class 'numpy.ndarray'>\n",
      "__________________________________________________________________________________________\n",
      "[1. 2. 3. 4. 5.]\n",
      "<class 'numpy.ndarray'>\n",
      "__________________________________________________________________________________________\n",
      "['1' '2' '3' '4' '5']\n",
      "<class 'numpy.ndarray'>\n",
      "__________________________________________________________________________________________\n",
      "[ True  True  True  True  True]\n",
      "<class 'numpy.ndarray'>\n"
     ]
    }
   ],
   "source": [
    "arr=np.array([1,2,3,4,5])\n",
    "print(arr)\n",
    "print(type(arr))\n",
    "\n",
    "print(30*\"___\")\n",
    "\n",
    "arr_=arr.astype(float)\n",
    "print(arr_)\n",
    "print(type(arr_))\n",
    "\n",
    "print(30*\"___\")\n",
    "\n",
    "arr1=arr.astype(\"str\")\n",
    "print(arr1)\n",
    "print(type(arr1))\n",
    "\n",
    "print(30*\"___\")\n",
    "arr1=arr.astype(\"bool\")\n",
    "print(arr1)\n",
    "print(type(arr1))"
   ]
  },
  {
   "cell_type": "markdown",
   "metadata": {},
   "source": [
    "CREATE AN ARRAY OF FLOATS"
   ]
  },
  {
   "cell_type": "code",
   "execution_count": 54,
   "metadata": {},
   "outputs": [
    {
     "name": "stdout",
     "output_type": "stream",
     "text": [
      "[1. 2. 3. 4. 5.]\n",
      "<class 'numpy.ndarray'>\n",
      "__________________________________________________________________________________________\n",
      "[1 2 3 4 5]\n",
      "<class 'numpy.ndarray'>\n",
      "__________________________________________________________________________________________\n",
      "['1.0' '2.0' '3.0' '4.0' '5.0']\n",
      "<class 'numpy.ndarray'>\n",
      "__________________________________________________________________________________________\n",
      "[ True  True  True  True  True]\n",
      "<class 'numpy.ndarray'>\n"
     ]
    }
   ],
   "source": [
    "arr=np.array([1.,2.,3.,4.,5.])\n",
    "print(arr)\n",
    "print(type(arr))\n",
    "\n",
    "print(30*\"___\")\n",
    "\n",
    "arr_=arr.astype(int)\n",
    "print(arr_)\n",
    "print(type(arr_))\n",
    "\n",
    "print(30*\"___\")\n",
    "\n",
    "arr1=arr.astype(\"str\")\n",
    "print(arr1)\n",
    "print(type(arr1))\n",
    "\n",
    "print(30*\"___\")\n",
    "arr1=arr.astype(\"bool\")\n",
    "print(arr1)\n",
    "print(type(arr1))"
   ]
  },
  {
   "cell_type": "markdown",
   "metadata": {},
   "source": [
    "CREATING AN ARRAY OF STRINGS"
   ]
  },
  {
   "cell_type": "code",
   "execution_count": null,
   "metadata": {},
   "outputs": [
    {
     "name": "stdout",
     "output_type": "stream",
     "text": [
      "['1' '2' '3' '4']\n",
      "<class 'numpy.ndarray'>\n",
      "__________________________________________________________________________________________\n",
      "[1 2 3 4]\n",
      "<class 'numpy.ndarray'>\n",
      "__________________________________________________________________________________________\n",
      "[1. 2. 3. 4.]\n",
      "<class 'numpy.ndarray'>\n",
      "__________________________________________________________________________________________\n",
      "[ True  True  True  True]\n",
      "<class 'numpy.ndarray'>\n"
     ]
    }
   ],
   "source": [
    "arr=np.array([\"1\",\"2\",\"3\",\"4\"])\n",
    "print(arr)\n",
    "print(type(arr))\n",
    "\n",
    "print(30*\"___\")\n",
    "\n",
    "arr_=arr.astype(int)\n",
    "print(arr_)\n",
    "print(type(arr_))\n",
    "\n",
    "print(30*\"___\")\n",
    "\n",
    "arr1=arr.astype(float)\n",
    "print(arr1)\n",
    "print(type(arr1))\n",
    "\n",
    "print(30*\"___\")\n",
    "arr1=arr.astype(\"bool\")\n",
    "print(arr1)\n",
    "print(type(arr1))"
   ]
  },
  {
   "cell_type": "markdown",
   "metadata": {},
   "source": [
    "CREATING AN ARRAY OF BOOLEANS"
   ]
  },
  {
   "cell_type": "code",
   "execution_count": 58,
   "metadata": {},
   "outputs": [
    {
     "name": "stdout",
     "output_type": "stream",
     "text": [
      "[ True False False  True  True]\n",
      "<class 'numpy.ndarray'>\n",
      "__________________________________________________________________________________________\n",
      "[1 0 0 1 1]\n",
      "<class 'numpy.ndarray'>\n",
      "__________________________________________________________________________________________\n",
      "[1. 0. 0. 1. 1.]\n",
      "<class 'numpy.ndarray'>\n",
      "__________________________________________________________________________________________\n",
      "['True' 'False' 'False' 'True' 'True']\n",
      "<class 'numpy.ndarray'>\n"
     ]
    }
   ],
   "source": [
    "arr=np.array([True,False,False,True,True])\n",
    "print(arr)\n",
    "print(type(arr))\n",
    "\n",
    "print(30*\"___\")\n",
    "\n",
    "arr_=arr.astype(int)\n",
    "print(arr_)\n",
    "print(type(arr_))\n",
    "\n",
    "print(30*\"___\")\n",
    "\n",
    "arr1=arr.astype(float)\n",
    "print(arr1)\n",
    "print(type(arr1))\n",
    "\n",
    "print(30*\"___\")\n",
    "arr1=arr.astype(\"str\")\n",
    "print(arr1)\n",
    "print(type(arr1))"
   ]
  },
  {
   "cell_type": "markdown",
   "metadata": {},
   "source": [
    "COPY FUNCTION\n"
   ]
  },
  {
   "cell_type": "code",
   "execution_count": 4,
   "metadata": {},
   "outputs": [
    {
     "name": "stdout",
     "output_type": "stream",
     "text": [
      "[1, 3, 4, 5, 6]\n",
      "[1, 3, 4, 5, 6]\n",
      "____________________________________________________________\n",
      "[1, 3, 4, 5, 9]\n",
      "[1, 3, 4, 5, 9]\n"
     ]
    }
   ],
   "source": [
    "lst=[1,3,4,5,6]\n",
    "print(lst)\n",
    "lst1=lst\n",
    "print(lst1)\n",
    "\n",
    "print(30*\"__\")\n",
    "lst[-1]=9\n",
    "print(lst)\n",
    "print(lst1)"
   ]
  },
  {
   "cell_type": "code",
   "execution_count": 5,
   "metadata": {},
   "outputs": [
    {
     "name": "stdout",
     "output_type": "stream",
     "text": [
      "[1, 3, 4, 5, 6]\n",
      "[1, 3, 4, 5, 6]\n",
      "____________________________________________________________\n",
      "[1, 3, 4, 5, 9]\n",
      "[1, 3, 4, 5, 6]\n"
     ]
    }
   ],
   "source": [
    "lst=[1,3,4,5,6]\n",
    "print(lst)\n",
    "lst1=lst.copy()\n",
    "print(lst1)\n",
    "\n",
    "print(30*\"__\")\n",
    "lst[-1]=9\n",
    "print(lst)\n",
    "print(lst1)"
   ]
  }
 ],
 "metadata": {
  "kernelspec": {
   "display_name": ".conda",
   "language": "python",
   "name": "python3"
  },
  "language_info": {
   "codemirror_mode": {
    "name": "ipython",
    "version": 3
   },
   "file_extension": ".py",
   "mimetype": "text/x-python",
   "name": "python",
   "nbconvert_exporter": "python",
   "pygments_lexer": "ipython3",
   "version": "3.10.16"
  }
 },
 "nbformat": 4,
 "nbformat_minor": 2
}
